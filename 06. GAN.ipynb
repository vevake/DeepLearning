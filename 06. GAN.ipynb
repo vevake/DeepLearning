{
 "cells": [
  {
   "cell_type": "code",
   "execution_count": 1,
   "metadata": {
    "collapsed": true
   },
   "outputs": [],
   "source": [
    "import numpy as np   # scientific computing library\n",
    "import tensorflow as tf  # library to implement ML\n",
    "import matplotlib.pyplot as plt # to plot graphs\n",
    "from PIL import Image"
   ]
  },
  {
   "cell_type": "code",
   "execution_count": 2,
   "metadata": {
    "collapsed": false
   },
   "outputs": [
    {
     "name": "stdout",
     "output_type": "stream",
     "text": [
      "Library versions used.\n",
      "Numpy :1.13.1 \n",
      "Tensorflow :1.2.1\n"
     ]
    }
   ],
   "source": [
    "print 'Library versions used.'\n",
    "print 'Numpy :{} \\nTensorflow :{}'.format(np.version.version, tf.__version__)"
   ]
  },
  {
   "cell_type": "code",
   "execution_count": 3,
   "metadata": {
    "collapsed": false
   },
   "outputs": [
    {
     "name": "stdout",
     "output_type": "stream",
     "text": [
      "Extracting data/MNIST/train-images-idx3-ubyte.gz\n",
      "Extracting data/MNIST/train-labels-idx1-ubyte.gz\n",
      "Extracting data/MNIST/t10k-images-idx3-ubyte.gz\n",
      "Extracting data/MNIST/t10k-labels-idx1-ubyte.gz\n"
     ]
    }
   ],
   "source": [
    "from tensorflow.examples.tutorials.mnist import input_data\n",
    "data = input_data.read_data_sets('data/MNIST', one_hot=True)"
   ]
  },
  {
   "cell_type": "code",
   "execution_count": 4,
   "metadata": {
    "collapsed": true
   },
   "outputs": [],
   "source": [
    "#Generator\n",
    "z_size = 100\n",
    "g_weight_size = 400\n",
    "g_output_size = 28*28"
   ]
  },
  {
   "cell_type": "code",
   "execution_count": 5,
   "metadata": {
    "collapsed": true
   },
   "outputs": [],
   "source": [
    "#Discriminator\n",
    "x_size = 28*28\n",
    "d_weight_size = 400\n",
    "d_output_size = 1\n",
    "\n",
    "batch_size = 128"
   ]
  },
  {
   "cell_type": "code",
   "execution_count": 6,
   "metadata": {
    "collapsed": false
   },
   "outputs": [],
   "source": [
    "class Generator(object):\n",
    "    def __init__(self, name='generator'):\n",
    "        with tf.name_scope(name):\n",
    "            self.name = name\n",
    "            self.w = tf.Variable(tf.random_normal(shape=(z_size, g_weight_size)), name='w_in')\n",
    "            self.b = tf.Variable(tf.zeros(shape=[g_weight_size]), name='b_in')\n",
    "            self.w_out = tf.Variable(tf.random_normal(shape=(g_weight_size, g_output_size)), name='w_out')\n",
    "            self.b_out = tf.Variable(tf.zeros(shape=[g_output_size]), name='b_out')\n",
    "            \n",
    "            tf.summary.histogram('weights', self.w)\n",
    "            tf.summary.histogram('biases', self.b)\n",
    "            tf.summary.histogram('weights_out', self.w_out)\n",
    "            tf.summary.histogram('biases_out', self.b_out)\n",
    "            \n",
    "            self.params = [self.w, self.b, self.w_out, self.b_out]\n",
    "    def generate(self,z):\n",
    "        with tf.name_scope(self.name):\n",
    "            h1 = tf.tanh(tf.matmul(z, self.w)+ self.b)\n",
    "            output = tf.sigmoid(tf.matmul(h1, self.w_out)+ self.b_out)        \n",
    "            return output"
   ]
  },
  {
   "cell_type": "code",
   "execution_count": 7,
   "metadata": {
    "collapsed": true
   },
   "outputs": [],
   "source": [
    "class Discriminator(object):\n",
    "    def __init__(self, name='discriminator'):\n",
    "        with tf.name_scope(name):\n",
    "            self.w = tf.Variable(tf.random_normal(shape=(x_size, d_weight_size)), name='w')\n",
    "            self.b = tf.Variable(tf.zeros(shape=[d_weight_size]), name='b')\n",
    "            self.w_out = tf.Variable(tf.random_normal(shape=(d_weight_size, d_output_size)), name='w_out')\n",
    "            self.b_out = tf.Variable(tf.zeros(shape=[d_output_size]), name='b_out')\n",
    "\n",
    "            tf.summary.histogram('weights', self.w)\n",
    "            tf.summary.histogram('biases', self.b)\n",
    "            tf.summary.histogram('weights_out', self.w_out)\n",
    "            tf.summary.histogram('biases_out', self.b_out)\n",
    "            self.params = [self.w, self.b, self.w_out, self.b_out]\n",
    "    def discriminate(self,x):\n",
    "        with tf.name_scope(self.name):\n",
    "            h1 = tf.tanh(tf.matmul(x, self.w) + self.b)\n",
    "            output = tf.matmul(h1, self.w_out) + self.b_out\n",
    "            return output"
   ]
  },
  {
   "cell_type": "code",
   "execution_count": 8,
   "metadata": {
    "collapsed": true
   },
   "outputs": [],
   "source": [
    "def generate_z(n=1):\n",
    "    return np.random.normal(size=(n, z_size)).astype('float32')"
   ]
  },
  {
   "cell_type": "code",
   "execution_count": 9,
   "metadata": {
    "collapsed": true
   },
   "outputs": [],
   "source": [
    "z = tf.placeholder('float', shape=(None, z_size))\n",
    "z1 = tf.placeholder('float', shape=(None, z_size))\n",
    "\n",
    "X = tf.placeholder('float', shape=(None, x_size))"
   ]
  },
  {
   "cell_type": "code",
   "execution_count": 10,
   "metadata": {
    "collapsed": false,
    "scrolled": true
   },
   "outputs": [],
   "source": [
    "g = Generator()\n",
    "d = Discriminator()\n",
    "\n",
    "g_out_sample = g.generate(z1)\n",
    "g_out = g.generate(z)\n",
    "d_out_fake = d.discriminate(g_out)\n",
    "d_out_real = d.discriminate(X)\n",
    "\n",
    "with tf.name_scope('cost'):\n",
    "    G_objective = tf.reduce_mean(tf.nn.sigmoid_cross_entropy_with_logits(logits=d_out_fake, labels=tf.ones_like(d_out_fake)))\n",
    "    \n",
    "    d_obj_real = tf.reduce_mean(tf.nn.sigmoid_cross_entropy_with_logits(logits=d_out_real, labels=(tf.ones_like(d_out_real)-0.1)))\n",
    "    d_obj_fake = tf.reduce_mean(tf.nn.sigmoid_cross_entropy_with_logits(logits=d_out_fake, labels=tf.zeros_like(d_out_fake))) \n",
    "    D_objective = d_obj_real + d_obj_fake\n",
    "    \n",
    "    tf.summary.scalar('G_objective', G_objective)\n",
    "    tf.summary.scalar('D_objective', D_objective)\n",
    "    tf.summary.scalar('d_obj_real', d_obj_real)\n",
    "    tf.summary.scalar('d_obj_fake', d_obj_fake)"
   ]
  },
  {
   "cell_type": "code",
   "execution_count": 11,
   "metadata": {
    "collapsed": false
   },
   "outputs": [
    {
     "data": {
      "text/plain": [
       "<tf.Tensor 'Generated_images:0' shape=() dtype=string>"
      ]
     },
     "execution_count": 11,
     "metadata": {},
     "output_type": "execute_result"
    }
   ],
   "source": [
    "inpt = tf.reshape(g_out_sample, shape = [-1, 28, 28, 1])\n",
    "tf.summary.image('Generated_images', inpt, 9)"
   ]
  },
  {
   "cell_type": "code",
   "execution_count": 12,
   "metadata": {
    "collapsed": false,
    "scrolled": true
   },
   "outputs": [],
   "source": [
    "G_opt = tf.train.AdamOptimizer().minimize(G_objective, var_list = g.params)\n",
    "D_opt = tf.train.AdamOptimizer().minimize(D_objective, var_list = d.params)"
   ]
  },
  {
   "cell_type": "code",
   "execution_count": 13,
   "metadata": {
    "collapsed": false
   },
   "outputs": [],
   "source": [
    "LOGDIR = '/tmp/mnist/'\n",
    "session = tf.Session()\n",
    "session.run(tf.global_variables_initializer())\n",
    "merged_summary = tf.summary.merge_all()\n",
    "writer = tf.summary.FileWriter(LOGDIR)\n",
    "writer.add_graph(session.graph)"
   ]
  },
  {
   "cell_type": "code",
   "execution_count": 14,
   "metadata": {
    "collapsed": false
   },
   "outputs": [
    {
     "name": "stdout",
     "output_type": "stream",
     "text": [
      "Training Started.\n",
      "Training Completed.\n"
     ]
    }
   ],
   "source": [
    "print 'Training Started.'\n",
    "for i in range(50000):\n",
    "#     session.run(G_opt, feed_dict={\n",
    "#         z: generate_z(batch_size),\n",
    "#     })\n",
    "    session.run([G_opt, D_opt], feed_dict={\n",
    "        X: data.train.images[np.random.choice(range(len(data.train.images)), batch_size)].reshape(batch_size, x_size),\n",
    "        z: generate_z(batch_size),\n",
    "    })\n",
    "    if i% 100 ==0:\n",
    "#         print i\n",
    "        s = session.run(merged_summary,feed_dict={\n",
    "                X: data.train.images[np.random.choice(range(len(data.train.images)), batch_size)].reshape(batch_size, x_size),\n",
    "                z: generate_z(batch_size),\n",
    "                z1 : generate_z(9),\n",
    "        })\n",
    "    writer.add_summary(s, i)\n",
    "print 'Training Completed.'"
   ]
  },
  {
   "cell_type": "code",
   "execution_count": 17,
   "metadata": {
    "collapsed": false
   },
   "outputs": [
    {
     "name": "stdout",
     "output_type": "stream",
     "text": [
      "Run `tensorboard --logdir=/tmp/mnist/` in terminal and see the results in tensorboard.\n"
     ]
    }
   ],
   "source": [
    "print('Run `tensorboard --logdir=%s` in terminal and see the results in tensorboard.' % LOGDIR)"
   ]
  },
  {
   "cell_type": "code",
   "execution_count": 15,
   "metadata": {
    "collapsed": true
   },
   "outputs": [],
   "source": [
    "def plot_image(images):  # we pass the images and the corresponding labels to the function to plot\n",
    "    \n",
    "    fig, axes = plt.subplots(3, 3)  #create a subplots in 3 rows and 3 colums since we plot for 9 images\n",
    "    fig.subplots_adjust(hspace=0.3, wspace=0.3) # provide spacing between the subplots\n",
    "    for i, ax in enumerate(axes.flat):\n",
    "        ax.imshow(images[i].reshape(28,28), cmap='binary') # plot the i_th image\n",
    "        \n",
    "        # Remove the ticks in the axes\n",
    "        ax.set_xticks([])\n",
    "        ax.set_yticks([])\n",
    "        \n",
    "    plt.show()"
   ]
  },
  {
   "cell_type": "code",
   "execution_count": 16,
   "metadata": {
    "collapsed": false
   },
   "outputs": [
    {
     "data": {
      "image/png": "[encoded data removed]",
      "text/plain": [
       "<matplotlib.figure.Figure at 0x7fbfcd6764d0>"
      ]
     },
     "metadata": {},
     "output_type": "display_data"
    }
   ],
   "source": [
    "images = session.run(g_out_sample, feed_dict={z1:generate_z(9)})\n",
    "plot_image(images)"
   ]
  },
  {
   "cell_type": "code",
   "execution_count": null,
   "metadata": {
    "collapsed": true
   },
   "outputs": [],
   "source": []
  }
 ],
 "metadata": {
  "anaconda-cloud": {},
  "kernelspec": {
   "display_name": "Python 2",
   "language": "python",
   "name": "python2"
  },
  "language_info": {
   "codemirror_mode": {
    "name": "ipython",
    "version": 2
   },
   "file_extension": ".py",
   "mimetype": "text/x-python",
   "name": "python",
   "nbconvert_exporter": "python",
   "pygments_lexer": "ipython2",
   "version": "2.7.12"
  }
 },
 "nbformat": 4,
 "nbformat_minor": 1
}
