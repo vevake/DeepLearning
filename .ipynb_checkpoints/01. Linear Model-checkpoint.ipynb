{
 "cells": [
  {
   "cell_type": "markdown",
   "metadata": {},
   "source": [
    "## Imports \n",
    "The libraries that are required to implement the model are imported"
   ]
  },
  {
   "cell_type": "code",
   "execution_count": 1,
   "metadata": {
    "collapsed": true
   },
   "outputs": [],
   "source": [
    "import numpy as np   # scientific computing library\n",
    "import tensorflow as tf  # library to implement ML\n",
    "import matplotlib.pyplot as plt # to plot graphs "
   ]
  },
  {
   "cell_type": "code",
   "execution_count": 2,
   "metadata": {
    "collapsed": false
   },
   "outputs": [
    {
     "name": "stdout",
     "output_type": "stream",
     "text": [
      "Library versions used.\n",
      "Numpy :1.13.1 \n",
      "Tensorflow :1.2.1\n"
     ]
    }
   ],
   "source": [
    "print 'Library versions used.'\n",
    "print 'Numpy :{} \\nTensorflow :{}'.format(np.version.version, tf.__version__)"
   ]
  },
  {
   "cell_type": "markdown",
   "metadata": {},
   "source": [
    "## Data  download\n",
    "The MNIST dataset is downloaded from the tensorflow website in one_hot vector format"
   ]
  },
  {
   "cell_type": "code",
   "execution_count": 3,
   "metadata": {
    "collapsed": false
   },
   "outputs": [
    {
     "name": "stdout",
     "output_type": "stream",
     "text": [
      "Extracting data/MNIST/train-images-idx3-ubyte.gz\n",
      "Extracting data/MNIST/train-labels-idx1-ubyte.gz\n",
      "Extracting data/MNIST/t10k-images-idx3-ubyte.gz\n",
      "Extracting data/MNIST/t10k-labels-idx1-ubyte.gz\n"
     ]
    }
   ],
   "source": [
    "from tensorflow.examples.tutorials.mnist import input_data\n",
    "data = input_data.read_data_sets('data/MNIST', one_hot=True)"
   ]
  },
  {
   "cell_type": "markdown",
   "metadata": {},
   "source": [
    "The MNIST is split into three part: 55,000 data points of training data (mnist.train), 10,000 points of test data (mnist.test), and 5,000 points of validation data (mnist.validation)."
   ]
  },
  {
   "cell_type": "code",
   "execution_count": 4,
   "metadata": {
    "collapsed": false
   },
   "outputs": [
    {
     "name": "stdout",
     "output_type": "stream",
     "text": [
      "Data Size\n",
      "Training Data \t: 55000\n",
      "validation Data : 5000\n",
      "Testing Data \t: 10000\n"
     ]
    }
   ],
   "source": [
    "print 'Data Size'\n",
    "print 'Training Data \\t:', len(data.train.labels)\n",
    "print 'validation Data :', len(data.validation.labels)\n",
    "print 'Testing Data \\t:', len(data.test.labels)"
   ]
  },
  {
   "cell_type": "markdown",
   "metadata": {},
   "source": [
    "## Example of training data\n",
    "Each image in the MNIST dataset is a 28x28 grey-scale image which is flattened into a single a vector of 784 numbers."
   ]
  },
  {
   "cell_type": "code",
   "execution_count": 5,
   "metadata": {
    "collapsed": false
   },
   "outputs": [
    {
     "name": "stdout",
     "output_type": "stream",
     "text": [
      "Training image vector size : 784\n"
     ]
    }
   ],
   "source": [
    "print 'Training image vector size :', len(data.train.images[0]) #Size of a training image"
   ]
  },
  {
   "cell_type": "markdown",
   "metadata": {},
   "source": [
    "Each image has the possibility of being any of the 10 numbers from 0-9. Thus yielding the labels of the image to be a one_hot vector denoting that particular number present in the image."
   ]
  },
  {
   "cell_type": "code",
   "execution_count": 6,
   "metadata": {
    "collapsed": false
   },
   "outputs": [
    {
     "name": "stdout",
     "output_type": "stream",
     "text": [
      "Number of labels : 10\n",
      "Example of a label : [ 0.  0.  0.  0.  0.  0.  0.  1.  0.  0.]\n"
     ]
    }
   ],
   "source": [
    "print 'Number of labels :', len(data.train.labels[0])\n",
    "print 'Example of a label :', data.train.labels[0]"
   ]
  },
  {
   "cell_type": "markdown",
   "metadata": {},
   "source": [
    "## Data dimensions\n",
    "The data dimensions will be used in different places in the code and hard-coding them in each place is not a good practice and makes debugging harder. So we define them as variables and use the variable name in othe rlocation\n"
   ]
  },
  {
   "cell_type": "code",
   "execution_count": 7,
   "metadata": {
    "collapsed": true
   },
   "outputs": [],
   "source": [
    "image_size = 28\n",
    "image_size_flatten = image_size * image_size\n",
    "num_labels = 10"
   ]
  },
  {
   "cell_type": "markdown",
   "metadata": {},
   "source": [
    "We can see that in the above example the number in the image correspondes to 7 since the entry of index 6 (index starts from 0) is set to 1."
   ]
  },
  {
   "cell_type": "markdown",
   "metadata": {},
   "source": [
    "## Visualizing the data as image\n",
    "Lets buid a helper function that uses the training vector to reconstruct the 28x28 image. For easier implementation we make sure that we always pass 9 images to the function."
   ]
  },
  {
   "cell_type": "code",
   "execution_count": 8,
   "metadata": {
    "collapsed": false
   },
   "outputs": [],
   "source": [
    "def plot_image(images, labels):  # we pass the images and the corresponding labels to the function to plot\n",
    "    assert len(images) == len(labels) #verify that the same length of images and labels are passed on\n",
    "    \n",
    "    fig, axes = plt.subplots(3, 3)  #create a subplots in 3 rows and 3 colums since we plot for 9 images\n",
    "    fig.subplots_adjust(hspace=0.3, wspace=0.3) # provide spacing between the subplots\n",
    "    for i, ax in enumerate(axes.flat):\n",
    "        ax.imshow(images[i].reshape(image_size,image_size), cmap='binary') # plot the i_th image\n",
    "        \n",
    "        # Remove the ticks in the axes\n",
    "        ax.set_xticks([])\n",
    "        ax.set_yticks([])\n",
    "        \n",
    "        #Print the true label of the image\n",
    "        xlabel = \"True: {}\".format(np.argmax(labels[i]))\n",
    "        ax.set_xlabel(xlabel)\n",
    "        \n",
    "    plt.show()"
   ]
  },
  {
   "cell_type": "markdown",
   "metadata": {},
   "source": [
    "## Let's plot the first 9 images in the dataset and check"
   ]
  },
  {
   "cell_type": "code",
   "execution_count": 9,
   "metadata": {
    "collapsed": false
   },
   "outputs": [
    {
     "data": {
      "image/png": "[encoded data removed]",
      "text/plain": [
       "<matplotlib.figure.Figure at 0x7f9d6ac5e090>"
      ]
     },
     "metadata": {},
     "output_type": "display_data"
    }
   ],
   "source": [
    "plot_image(data.train.images[0:9], data.train.labels[0:9])"
   ]
  },
  {
   "cell_type": "markdown",
   "metadata": {},
   "source": [
    "# Tensorflow\n",
    "\n",
    "Now we have our data, we shall build the computational graph in tensorflow for the learning model.\n",
    "\n",
    "First thing is to define the placeholders that act as gateway to pass the input to the computational graph."
   ]
  },
  {
   "cell_type": "markdown",
   "metadata": {},
   "source": [
    "## Placeholder for the input\n",
    "\n",
    "Defining this makes us to pass the input images to the tensorflow graph. the datatype is set to float32 and the shape is [None, image_size] which means we can pass arbitraty number of images with each image containting a vector of size image_size. "
   ]
  },
  {
   "cell_type": "code",
   "execution_count": 16,
   "metadata": {
    "collapsed": true
   },
   "outputs": [],
   "source": [
    "x = tf.placeholder(tf.float32, [None, image_size_flatten])"
   ]
  },
  {
   "cell_type": "markdown",
   "metadata": {},
   "source": [
    "We define two other place holders y and y_cls through which we can input the labels of the image. y is defined to have a datatype float32 with shape [None, num_labels] since each image labels is a one hot vector of size num_labels (i.e 10 in our case). and y_cls is defined to have a datatype int16 with shape [None] since it holds the true class of each image as number."
   ]
  },
  {
   "cell_type": "code",
   "execution_count": 14,
   "metadata": {
    "collapsed": true
   },
   "outputs": [],
   "source": [
    "y = tf.placeholder(tf.float32, [None, num_labels])\n",
    "y_cls = tf.placeholder(tf.int32, [None])"
   ]
  },
  {
   "cell_type": "markdown",
   "metadata": {},
   "source": []
  },
  {
   "cell_type": "code",
   "execution_count": 12,
   "metadata": {
    "collapsed": false
   },
   "outputs": [],
   "source": [
    "weights = tf.get_variable('proj_w', [image_size_flatten, num_labels], tf.float32)\n",
    "biases = tf.get_variable('proj_b', [num_labels], tf.float32)"
   ]
  },
  {
   "cell_type": "code",
   "execution_count": 17,
   "metadata": {
    "collapsed": false
   },
   "outputs": [],
   "source": [
    "logits = tf.matmul(x, weights) + biases"
   ]
  },
  {
   "cell_type": "code",
   "execution_count": 18,
   "metadata": {
    "collapsed": true
   },
   "outputs": [],
   "source": [
    "y_pred = tf.nn.softmax(logits)"
   ]
  },
  {
   "cell_type": "raw",
   "metadata": {},
   "source": []
  }
 ],
 "metadata": {
  "anaconda-cloud": {},
  "kernelspec": {
   "display_name": "Python 2",
   "language": "python",
   "name": "python2"
  },
  "language_info": {
   "codemirror_mode": {
    "name": "ipython",
    "version": 2
   },
   "file_extension": ".py",
   "mimetype": "text/x-python",
   "name": "python",
   "nbconvert_exporter": "python",
   "pygments_lexer": "ipython2",
   "version": "2.7.12"
  }
 },
 "nbformat": 4,
 "nbformat_minor": 1
}
