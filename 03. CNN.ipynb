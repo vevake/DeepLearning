{
 "cells": [
  {
   "cell_type": "markdown",
   "metadata": {},
   "source": [
    "# Introduction\n",
    "\n",
    "This notebook demonstrates the implementation of a Multi-layer Perceptron model using tensorflow library. The MNIST dataset is used for traini the model."
   ]
  },
  {
   "cell_type": "markdown",
   "metadata": {},
   "source": [
    "## Imports \n",
    "The libraries that are required to implement the model are imported"
   ]
  },
  {
   "cell_type": "code",
   "execution_count": 1,
   "metadata": {
    "collapsed": false
   },
   "outputs": [],
   "source": [
    "import numpy as np   # scientific computing library\n",
    "import tensorflow as tf  # library to implement ML\n",
    "import matplotlib.pyplot as plt # to plot graphs "
   ]
  },
  {
   "cell_type": "code",
   "execution_count": 2,
   "metadata": {
    "collapsed": false
   },
   "outputs": [
    {
     "name": "stdout",
     "output_type": "stream",
     "text": [
      "Library versions used.\n",
      "Numpy :1.13.1 \n",
      "Tensorflow :1.2.1\n"
     ]
    }
   ],
   "source": [
    "print 'Library versions used.'\n",
    "print 'Numpy :{} \\nTensorflow :{}'.format(np.version.version, tf.__version__)"
   ]
  },
  {
   "cell_type": "markdown",
   "metadata": {},
   "source": [
    "## Data  download\n",
    "The MNIST dataset is downloaded from the tensorflow website in one_hot vector format"
   ]
  },
  {
   "cell_type": "code",
   "execution_count": 3,
   "metadata": {
    "collapsed": false
   },
   "outputs": [
    {
     "name": "stdout",
     "output_type": "stream",
     "text": [
      "Extracting data/MNIST/train-images-idx3-ubyte.gz\n",
      "Extracting data/MNIST/train-labels-idx1-ubyte.gz\n",
      "Extracting data/MNIST/t10k-images-idx3-ubyte.gz\n",
      "Extracting data/MNIST/t10k-labels-idx1-ubyte.gz\n"
     ]
    }
   ],
   "source": [
    "from tensorflow.examples.tutorials.mnist import input_data\n",
    "data = input_data.read_data_sets('data/MNIST', one_hot=True)"
   ]
  },
  {
   "cell_type": "markdown",
   "metadata": {},
   "source": [
    "The MNIST is split into three part: 55,000 data points of training data (mnist.train), 10,000 points of test data (mnist.test), and 5,000 points of validation data (mnist.validation)."
   ]
  },
  {
   "cell_type": "code",
   "execution_count": 4,
   "metadata": {
    "collapsed": false
   },
   "outputs": [
    {
     "name": "stdout",
     "output_type": "stream",
     "text": [
      "Data Size\n",
      "Training Data \t: 55000\n",
      "validation Data : 5000\n",
      "Testing Data \t: 10000\n"
     ]
    }
   ],
   "source": [
    "print 'Data Size'\n",
    "print 'Training Data \\t:', len(data.train.labels)\n",
    "print 'validation Data :', len(data.validation.labels)\n",
    "print 'Testing Data \\t:', len(data.test.labels)"
   ]
  },
  {
   "cell_type": "markdown",
   "metadata": {},
   "source": [
    "## Example of training data\n",
    "Each image in the MNIST dataset is a 28x28 grey-scale image which is flattened into a single a vector of 784 numbers."
   ]
  },
  {
   "cell_type": "code",
   "execution_count": 5,
   "metadata": {
    "collapsed": false
   },
   "outputs": [
    {
     "name": "stdout",
     "output_type": "stream",
     "text": [
      "Training image vector size : 784\n"
     ]
    }
   ],
   "source": [
    "print 'Training image vector size :', len(data.train.images[0]) #Size of a training image"
   ]
  },
  {
   "cell_type": "markdown",
   "metadata": {},
   "source": [
    "Each image has the possibility of being any of the 10 numbers from 0-9. Thus yielding the labels of the image to be a one_hot vector denoting that particular number present in the image."
   ]
  },
  {
   "cell_type": "code",
   "execution_count": 6,
   "metadata": {
    "collapsed": false
   },
   "outputs": [
    {
     "name": "stdout",
     "output_type": "stream",
     "text": [
      "Number of labels : 10\n",
      "Example of a label : [ 0.  0.  0.  0.  0.  0.  0.  1.  0.  0.]\n"
     ]
    }
   ],
   "source": [
    "print 'Number of labels :', len(data.train.labels[0])\n",
    "print 'Example of a label :', data.train.labels[0]"
   ]
  },
  {
   "cell_type": "markdown",
   "metadata": {},
   "source": [
    "We can see that in the above example the number in the image correspondes to 7 since the entry of index 6 (index starts from 0) is set to 1."
   ]
  },
  {
   "cell_type": "markdown",
   "metadata": {},
   "source": [
    "The labels of the input images are required in single values as well which would help us in further functions like for calculating accuracy or in plotting the true lable with image."
   ]
  },
  {
   "cell_type": "code",
   "execution_count": 7,
   "metadata": {
    "collapsed": true
   },
   "outputs": [],
   "source": [
    "data.validation.cls = np.array([label.argmax() for label in data.validation.labels])\n",
    "data.test.cls = np.array([label.argmax() for label in data.test.labels])"
   ]
  },
  {
   "cell_type": "markdown",
   "metadata": {},
   "source": [
    "## Data dimensions\n",
    "The data dimensions will be used in different places in the code and hard-coding them in each place is not a good practice and makes debugging harder. So we define them as variables and use the variable name in othe rlocation"
   ]
  },
  {
   "cell_type": "code",
   "execution_count": 8,
   "metadata": {
    "collapsed": true
   },
   "outputs": [],
   "source": [
    "image_size = 28\n",
    "image_size_flatten = image_size * image_size\n",
    "num_labels = 10"
   ]
  },
  {
   "cell_type": "markdown",
   "metadata": {},
   "source": [
    "## Visualizing the data as image\n",
    "Lets buid a helper function that uses the training vector to reconstruct the 28x28 image. For easier implementation we make sure that we always pass 9 images to the function."
   ]
  },
  {
   "cell_type": "code",
   "execution_count": 9,
   "metadata": {
    "collapsed": true
   },
   "outputs": [],
   "source": [
    "def plot_image(images, labels):  # we pass the images and the corresponding labels to the function to plot\n",
    "    assert len(images) == len(labels) #verify that the same length of images and labels are passed on\n",
    "    \n",
    "    fig, axes = plt.subplots(3, 3)  #create a subplots in 3 rows and 3 colums since we plot for 9 images\n",
    "    fig.subplots_adjust(hspace=0.3, wspace=0.3) # provide spacing between the subplots\n",
    "    for i, ax in enumerate(axes.flat):\n",
    "        ax.imshow(images[i].reshape(image_size,image_size), cmap='binary') # plot the i_th image\n",
    "        \n",
    "        # Remove the ticks in the axes\n",
    "        ax.set_xticks([])\n",
    "        ax.set_yticks([])\n",
    "        \n",
    "        #Print the true label of the image\n",
    "        xlabel = \"True: {}\".format(np.argmax(labels[i]))\n",
    "        ax.set_xlabel(xlabel)\n",
    "        \n",
    "    plt.show()"
   ]
  },
  {
   "cell_type": "markdown",
   "metadata": {},
   "source": [
    "## Let's plot the first 9 images in the dataset and check"
   ]
  },
  {
   "cell_type": "code",
   "execution_count": 10,
   "metadata": {
    "collapsed": false
   },
   "outputs": [
    {
     "data": {
      "image/png": "[encoded data removed]",
      "text/plain": [
       "<matplotlib.figure.Figure at 0x7f18486d6410>"
      ]
     },
     "metadata": {},
     "output_type": "display_data"
    }
   ],
   "source": [
    "plot_image(data.train.images[0:9], data.train.labels[0:9])"
   ]
  },
  {
   "cell_type": "markdown",
   "metadata": {},
   "source": [
    "## Tensorflow\n",
    "Now we have our data, we shall build the computational graph in tensorflow for the learning model.\n",
    "First thing is to define the placeholders that act as gateway to pass the input to the computational graph."
   ]
  },
  {
   "cell_type": "markdown",
   "metadata": {},
   "source": [
    "## Placeholder for the input\n",
    "Defining this makes us to pass the input images to the tensorflow graph. the datatype is set to float32 and the shape is [None, image_size] which means we can pass arbitraty number of images with each image containting a vector of size image_size."
   ]
  },
  {
   "cell_type": "code",
   "execution_count": 11,
   "metadata": {
    "collapsed": true
   },
   "outputs": [],
   "source": [
    "x = tf.placeholder(tf.float32, [None, image_size_flatten])"
   ]
  },
  {
   "cell_type": "markdown",
   "metadata": {},
   "source": [
    "We define two other place holders y and y_cls through which we can input the labels of the image. y is defined to have a datatype float32 with shape [None, num_labels] since each image labels is a one hot vector of size num_labels (i.e 10 in our case). and y_cls is defined to have a datatype int16 with shape [None] since it holds the true class of each image as number."
   ]
  },
  {
   "cell_type": "code",
   "execution_count": 12,
   "metadata": {
    "collapsed": true
   },
   "outputs": [],
   "source": [
    "y_true = tf.placeholder(tf.float32, [None, num_labels])\n",
    "y_true_cls = tf.placeholder(tf.int64, [None])"
   ]
  },
  {
   "cell_type": "markdown",
   "metadata": {},
   "source": [
    "## Model\n",
    "\n",
    "The architecture of a CNN can be seen below.\n",
    "![](http://personal.ie.cuhk.edu.hk/~ccloy/project_target_code/images/fig3.png)"
   ]
  },
  {
   "cell_type": "markdown",
   "metadata": {},
   "source": [
    "A CNN consists of 3 important functions namely, convolutions, pooling and fully connected layer."
   ]
  },
  {
   "cell_type": "markdown",
   "metadata": {},
   "source": [
    "### Convolutions \n",
    "Convolutions is the core of the ConvNets that helps to extract the features from the input image. The input image is represented as a matrix of pixel. In this case as the input considered is a greyscaled image, the matrix values is either 0 or 1. The operation can be seen as a sliding window function applied to the matrix. The sliding window function is called a filter which is a matrix. Here we use a 5x5 filter to multiply its values element-wise with the original matrix, then sum them up to get the convolution. To get the convolution for the whole matrix we do this for each element in the input matrix by sliding the filter over it. The result outcome is called the convolved feature or feature map. Applying filters of different sizes we can detect different features of an image like, curves, edges etc."
   ]
  },
  {
   "cell_type": "markdown",
   "metadata": {},
   "source": [
    "### Pooling\n",
    "![](http://cs231n.github.io/assets/cnn/maxpool.jpeg)\n",
    "Pooling Pooling also known as downsampling or subsampling reduces the dimensionality of each feature map but retaining most of the important information from it. The most commonly used pooling operation is max. For pooling operation we define a window (2x2 is used in figure 3.9) and output the maximum element from the rectified feature map within that window. The other operation like average or min or sum can also be used depending on the task. Pooling has the property of providing a fixed size output matrix irrespective of the size of filter used for convolution which is required for classification."
   ]
  },
  {
   "cell_type": "markdown",
   "metadata": {},
   "source": [
    "### Fully connected layer\n",
    "Fully connected layer is a multi layer perceptron where a layer has connections from all activations in the previous layer. The high level features that are detected by the previous layers of the ConvNet is used here to classify the input into various classes."
   ]
  },
  {
   "cell_type": "markdown",
   "metadata": {},
   "source": [
    "The above architecture in the image of CNN consists of 3 convolutional layer with pooling and 2 fully connected layer and a output layer. We implement a CNN with 2 convolutional layer with pooling and 1 fully connected layer and a output layer"
   ]
  },
  {
   "cell_type": "code",
   "execution_count": null,
   "metadata": {
    "collapsed": true
   },
   "outputs": [],
   "source": []
  },
  {
   "cell_type": "code",
   "execution_count": 13,
   "metadata": {
    "collapsed": false
   },
   "outputs": [],
   "source": [
    "class ConvLayer(object):\n",
    "    def __init__(self, inpt, filter_size, num_input_channels, num_filters, strides=(1,1,1,1), \n",
    "                 padding='SAME', activation=tf.nn.sigmoid):\n",
    "        self.input = inpt\n",
    "        \n",
    "        #since the filter is a square matrix \n",
    "        filter_shape = [filter_size, filter_size, num_input_channels, num_filters]\n",
    "        \n",
    "        # weights for the filters \n",
    "        self.W = tf.Variable(tf.truncated_normal(filter_shape, stddev=0.1), dtype=tf.float32)\n",
    "        #Read the stackexchange page for using truncated_normal to initalize the weights\n",
    "        #https://stats.stackexchange.com/questions/228670/what-is-the-benefit-of-the-truncated-normal-distribution-in-initializing-weights\n",
    "        \n",
    "        # bias for the filters (one for each filter)\n",
    "        self.b = tf.Variable(tf.truncated_normal(filter_shape[-1:], stddev=0.1), dtype=tf.float32)\n",
    "        \n",
    "        # perform convolution operation\n",
    "        # the strides denote how the filter is moved over the input.\n",
    "        conv_output = tf.nn.conv2d(self.input, filter=self.W, strides=strides, padding=padding)\n",
    "        conv_output = conv_output + self.b\n",
    "        \n",
    "        #perform activation function\n",
    "        self.output = activation(conv_output) if activation is not None else conv_output\n",
    "        \n",
    "        self.params = [self.W, self.b]       "
   ]
  },
  {
   "cell_type": "code",
   "execution_count": 14,
   "metadata": {
    "collapsed": true
   },
   "outputs": [],
   "source": [
    "class FlattenLayer(object):\n",
    "    def __init__(self, inpt, shape):\n",
    "        self.input = inpt\n",
    "        \n",
    "        #flatten a tensor to a single dimension\n",
    "        self.output = tf.reshape(self.input, shape=shape)"
   ]
  },
  {
   "cell_type": "code",
   "execution_count": 15,
   "metadata": {
    "collapsed": true
   },
   "outputs": [],
   "source": [
    "class MaxPoolLayer(object):\n",
    "    def __init__(self, inpt, ksize=(1, 2, 2, 1), strides=(1, 2, 2, 1), padding=\"SAME\"):\n",
    "        self.input = inpt\n",
    "        # perform maxpooling based on the pool window(ksize) and the stride it has to move over the input\n",
    "        self.output = tf.nn.max_pool(self.input, ksize=ksize, strides=strides, padding=padding)"
   ]
  },
  {
   "cell_type": "markdown",
   "metadata": {},
   "source": [
    "There is one other function called dropout which is a method to prevent overfitting of data in neural networks. It drop's out certain units in the input based on the probability it is set to. By performing this operation the network can better model the probability of the data and perform better on unseen data. The droput is applied only during training and applying it during testing will result in poor performance as the model cannot use all the extracted features for prediction. So, while training the dropout should be set between 0 and 1 and for testing it should be set to 1. Setting 1 mean that we want the model to keep all the extracted features."
   ]
  },
  {
   "cell_type": "code",
   "execution_count": 16,
   "metadata": {
    "collapsed": false
   },
   "outputs": [],
   "source": [
    "class DropoutLayer(object):\n",
    "    def __init__(self, inpt):\n",
    "        self.keep_prob = tf.placeholder(tf.float32)\n",
    "        self.input = inpt\n",
    "        \n",
    "        # apply dropout\n",
    "        self.output = tf.nn.dropout(self.input, keep_prob=self.keep_prob)"
   ]
  },
  {
   "cell_type": "code",
   "execution_count": 17,
   "metadata": {
    "collapsed": true
   },
   "outputs": [],
   "source": [
    "# Convolutional Layer 1.\n",
    "filter_size1 = 5          # Convolution filters are 5 x 5 pixels.\n",
    "num_filters1 = 16         # There are 16 of these filters.\n",
    "\n",
    "# Convolutional Layer 2.\n",
    "filter_size2 = 5          # Convolution filters are 5 x 5 pixels.\n",
    "num_filters2 = 36         # There are 36 of these filters.\n",
    "\n",
    "# Number of colour channels for the images: 1 channel for gray-scale.\n",
    "num_channels = 1"
   ]
  },
  {
   "cell_type": "markdown",
   "metadata": {},
   "source": [
    "The convolutions require the input to be encoded as a 4-dim tensor. So we reshape the input image to 4D of shape [num_input_images, img_size, img_size, num_channels]. The num_input images is inferred automatically by placing -1."
   ]
  },
  {
   "cell_type": "code",
   "execution_count": 18,
   "metadata": {
    "collapsed": true
   },
   "outputs": [],
   "source": [
    "inpt = tf.reshape(x, shape=[-1, image_size, image_size, num_channels])"
   ]
  },
  {
   "cell_type": "markdown",
   "metadata": {},
   "source": [
    "First convolution layer followed by pooling layer"
   ]
  },
  {
   "cell_type": "code",
   "execution_count": 19,
   "metadata": {
    "collapsed": false
   },
   "outputs": [],
   "source": [
    "layer0_conv = ConvLayer(inpt, filter_size=filter_size1, num_input_channels = num_channels,\n",
    "                        num_filters=num_filters1, strides=[1, 1, 1, 1],\n",
    "                        activation=tf.nn.relu, padding='SAME')\n",
    "# This is 2x2 max-pooling, which means that we consider 2x2 windows and select the largest value\n",
    "# in each window. Then we move 2 pixels to the next window.\n",
    "layer0_pool = MaxPoolLayer(layer0_conv.output, ksize=[1, 2, 2, 1], strides=[1, 2, 2, 1])"
   ]
  },
  {
   "cell_type": "markdown",
   "metadata": {},
   "source": [
    "Second convolution layer followed by pooling layer"
   ]
  },
  {
   "cell_type": "code",
   "execution_count": 20,
   "metadata": {
    "collapsed": true
   },
   "outputs": [],
   "source": [
    "layer1_conv = ConvLayer(layer0_pool.output, filter_size=filter_size2, num_input_channels = num_filters1,\n",
    "                        num_filters=num_filters2, strides=[1, 1, 1, 1], \n",
    "                        activation=tf.nn.relu, padding=\"SAME\")\n",
    "# This is 2x2 max-pooling, which means that we consider 2x2 windows and select the largest value\n",
    "# in each window. Then we move 2 pixels to the next window.\n",
    "layer1_pool = MaxPoolLayer(layer1_conv.output, ksize=[1, 2, 2, 1], strides=[1, 2, 2, 1])"
   ]
  },
  {
   "cell_type": "markdown",
   "metadata": {},
   "source": [
    "We need to flatten the 4D tensor to a single dimension, to pass the values to fully connected layer."
   ]
  },
  {
   "cell_type": "code",
   "execution_count": 21,
   "metadata": {
    "collapsed": true
   },
   "outputs": [],
   "source": [
    "#get the number of feature extracted by convolution layers\n",
    "num_features = layer1_pool.output.get_shape()[1:4].num_elements()\n",
    "\n",
    "#flatten to the number_of_features extracted by convolution layers\n",
    "layer2_flatten = FlattenLayer(layer1_pool.output, shape=[-1, num_features]) \n",
    "\n",
    "#apply dropout to the flattened tensor.\n",
    "layer2_dropout = DropoutLayer(layer2_flatten.output)"
   ]
  },
  {
   "cell_type": "markdown",
   "metadata": {},
   "source": [
    "Lets create a fully connected layers with 128 neurons with relu activation function."
   ]
  },
  {
   "cell_type": "code",
   "execution_count": 22,
   "metadata": {
    "collapsed": false
   },
   "outputs": [],
   "source": [
    "fc_size = 128\n",
    "weights_fc = tf.get_variable('fc_w', [num_features, fc_size], tf.float32)\n",
    "biases_fc = tf.get_variable('fc_b', [fc_size], tf.float32)\n",
    "fc_output = tf.nn.relu(tf.matmul(layer2_dropout.output, weights_fc) + biases_fc)"
   ]
  },
  {
   "cell_type": "markdown",
   "metadata": {},
   "source": [
    "The output of fully connected layer is passed onto the output layer which has neurons equal to the number of possible output labels."
   ]
  },
  {
   "cell_type": "code",
   "execution_count": 23,
   "metadata": {
    "collapsed": true
   },
   "outputs": [],
   "source": [
    "weights_output = tf.get_variable('fc2_w', [fc_size, num_labels], tf.float32)\n",
    "biases_output = tf.get_variable('fc2_b', [num_labels], tf.float32)\n",
    "output = tf.matmul(fc_output, weights_output) + biases_output"
   ]
  },
  {
   "cell_type": "markdown",
   "metadata": {},
   "source": [
    "The softmax function is then applied to the output score to predict the probabilities for each class.\n",
    "The predicted label can be calculated by just looking at the index of the value with maximum probability."
   ]
  },
  {
   "cell_type": "code",
   "execution_count": 24,
   "metadata": {
    "collapsed": true
   },
   "outputs": [],
   "source": [
    "y_pred = tf.nn.softmax(output)\n",
    "y_pred_cls = tf.argmax(y_pred, dimension=1)"
   ]
  },
  {
   "cell_type": "markdown",
   "metadata": {},
   "source": [
    "Now that we predicted some output for a given image, we need to tell the model the error it has made compared to the original label. This is done by the cross_entropy operation which calculates the error made in each image prediction."
   ]
  },
  {
   "cell_type": "code",
   "execution_count": 25,
   "metadata": {
    "collapsed": false
   },
   "outputs": [],
   "source": [
    "cross_entropy = tf.nn.softmax_cross_entropy_with_logits(logits=output, labels=y_true)"
   ]
  },
  {
   "cell_type": "markdown",
   "metadata": {},
   "source": [
    "To optimize the model's variables we need a single scalar value which can be done by just taking the mean of all of all values. The reduce_mean function performs this operation and outputs a single scalar value"
   ]
  },
  {
   "cell_type": "code",
   "execution_count": 26,
   "metadata": {
    "collapsed": true
   },
   "outputs": [],
   "source": [
    "cost = tf.reduce_mean(cross_entropy)"
   ]
  },
  {
   "cell_type": "markdown",
   "metadata": {},
   "source": [
    "## Optimizer\n",
    "Now that we have the error calculated, we need to optimize the model variable's according to the error such that the objective is to minimize the error. Various optimizers have been proposed iin tensorflow but here we use \"AdamOptimizer\" with a learning_rate of 0.001."
   ]
  },
  {
   "cell_type": "code",
   "execution_count": 27,
   "metadata": {
    "collapsed": true
   },
   "outputs": [],
   "source": [
    "optimizer = tf.train.AdamOptimizer(learning_rate=0.001).minimize(cost)"
   ]
  },
  {
   "cell_type": "markdown",
   "metadata": {},
   "source": [
    "## Accuracy measure\n",
    "we define the below measures so that we can measure how well our model performs. The tf.equal function compares the inputs and returns a boolean tensor saying if the values in both inputs passed are equal or not. The reduce_mean function then calculates the mean of all values in the tensor giving us the exact fraction(0 to 1) of correct prediction."
   ]
  },
  {
   "cell_type": "code",
   "execution_count": 28,
   "metadata": {
    "collapsed": true
   },
   "outputs": [],
   "source": [
    "correct_prediction = tf.equal(y_pred_cls, y_true_cls)\n",
    "accuracy = tf.reduce_mean(tf.cast(correct_prediction, tf.float32))"
   ]
  },
  {
   "cell_type": "markdown",
   "metadata": {},
   "source": [
    "## Training\n",
    "Now that we have everything setup lets train the model.\n",
    "To execute the tensorflow graph we need to create a session initially and then the variables of the model are initialied before we start to train the model"
   ]
  },
  {
   "cell_type": "code",
   "execution_count": 29,
   "metadata": {
    "collapsed": true
   },
   "outputs": [],
   "source": [
    "session = tf.Session()\n",
    "session.run(tf.global_variables_initializer())"
   ]
  },
  {
   "cell_type": "markdown",
   "metadata": {},
   "source": [
    "Since the input is of over 50k images, inputting them in a single go to the model will take considerable resources and also calculating the gradient of the model takes long time. So instead we pass input as batches of images.\n",
    "And the more the model go over the input it can learn to better classify the image. The epoch variable denotes the number of times the complete dataset must be passed on to the model for learning. Having a higher epoch would overfit the model as well so we always need to check the accuracy on the validation dataset to check which model performs better."
   ]
  },
  {
   "cell_type": "code",
   "execution_count": 30,
   "metadata": {
    "collapsed": false
   },
   "outputs": [],
   "source": [
    "batch_size = 64\n",
    "epoch = 10"
   ]
  },
  {
   "cell_type": "markdown",
   "metadata": {},
   "source": [
    "## Saving model\n",
    "Let's define the path to save the best model while training."
   ]
  },
  {
   "cell_type": "code",
   "execution_count": 31,
   "metadata": {
    "collapsed": true
   },
   "outputs": [],
   "source": [
    "# path to save the model\n",
    "save_path = 'Checkpoints/model'\n",
    "\n",
    "# create an object for the Saver function in tensorflow which we will use to save the model\n",
    "saver = tf.train.Saver()"
   ]
  },
  {
   "cell_type": "markdown",
   "metadata": {},
   "source": [
    "Let's train the model. The training is written as a function so we can later call this function to train the model."
   ]
  },
  {
   "cell_type": "code",
   "execution_count": 32,
   "metadata": {
    "collapsed": false
   },
   "outputs": [],
   "source": [
    "import math\n",
    "def train(epoch=10, batch_size=64):\n",
    "    # calculate the total number of batches in the input dataset. \n",
    "    # This will give us a float value but the value is rounded to the higher integer.\n",
    "    total_batch = math.ceil(float(len(data.train.images))/batch_size) \n",
    "    print '------------------TRAINING------------------'\n",
    "    for i in range(epoch):           # number of times to pass over the dataset for training        \n",
    "        avg_cost = 0\n",
    "        \n",
    "        # pass each batch to the model for learning\n",
    "        for j in range(int(total_batch)):    #since total_batch is in float we convert to int\n",
    "            # get the next batch of input data\n",
    "            x_batch, y_batch = data.train.next_batch(batch_size)\n",
    "            \n",
    "            # denote the data that needs to passes onto the placeholders defined in the tensorflow graph\n",
    "            # we also need to denote the dropout probability while training.\n",
    "            feed_dict = {x: x_batch, y_true: y_batch, layer2_dropout.keep_prob:0.5}\n",
    "            \n",
    "            # run the optimizer using this batch of data\n",
    "            _, c = session.run([optimizer, cost], feed_dict)            \n",
    "            \n",
    "            # Compute average loss\n",
    "            avg_cost += c / total_batch\n",
    "            \n",
    "        print 'Epoch :{0} completed. Error :{1}'.format(i+1, avg_cost)\n",
    "    print '-------------TRAINING COMPLETED-------------'\n",
    "    \n",
    "    #Let's save the trained model\n",
    "    saver.save(session, save_path)"
   ]
  },
  {
   "cell_type": "markdown",
   "metadata": {},
   "source": [
    "We implement a helper function that calls the above defined accuracy measure and prints the accuracy of the model"
   ]
  },
  {
   "cell_type": "code",
   "execution_count": 33,
   "metadata": {
    "collapsed": false
   },
   "outputs": [],
   "source": [
    "def get_accuracy(datatype='test'):  \n",
    "    # datatype parameter denotes if the accuracy is to be \n",
    "    # calculated on test or validation data\n",
    "    \n",
    "    # pass the test data to the placeholders as input since we require the accuracy on test data\n",
    "    if datatype == 'test':\n",
    "        feed_dict_test = {x: data.test.images,\n",
    "                      y_true: data.test.labels,\n",
    "                      y_true_cls: data.test.cls,\n",
    "                      layer2_dropout.keep_prob: 1.0}\n",
    "    else: \n",
    "        feed_dict_test = {x: data.validation.images,\n",
    "                      y_true: data.validation.labels,\n",
    "                      y_true_cls: data.validation.cls,\n",
    "                      layer2_dropout.keep_prob: 1.0}    \n",
    "    # Compute the accuracy and cost on the test data\n",
    "    acc, c = session.run([accuracy, cost], feed_dict=feed_dict_test)\n",
    "        \n",
    "    return round((acc*100),1), c"
   ]
  },
  {
   "cell_type": "markdown",
   "metadata": {},
   "source": [
    "Let's check the accuracy of the initial model without any training done."
   ]
  },
  {
   "cell_type": "code",
   "execution_count": 34,
   "metadata": {
    "collapsed": false
   },
   "outputs": [
    {
     "name": "stdout",
     "output_type": "stream",
     "text": [
      "Accuracy of inital model :11.3%. Cost :2.36104536057\n"
     ]
    }
   ],
   "source": [
    "acc, c = get_accuracy('test')\n",
    "print 'Accuracy of inital model :{0}%. Cost :{1}'.format(acc, c)"
   ]
  },
  {
   "cell_type": "markdown",
   "metadata": {},
   "source": [
    "Now let's train the model for 20 epochs and check the accuracy of it."
   ]
  },
  {
   "cell_type": "code",
   "execution_count": 35,
   "metadata": {
    "collapsed": false,
    "scrolled": false
   },
   "outputs": [
    {
     "name": "stdout",
     "output_type": "stream",
     "text": [
      "------------------TRAINING------------------\n",
      "Epoch :1 completed. Error :0.211866000023\n",
      "Epoch :2 completed. Error :0.0707437781593\n",
      "Epoch :3 completed. Error :0.0528359081321\n",
      "Epoch :4 completed. Error :0.0430821562398\n",
      "Epoch :5 completed. Error :0.0376102932055\n",
      "Epoch :6 completed. Error :0.0345284996746\n",
      "Epoch :7 completed. Error :0.0291672784671\n",
      "Epoch :8 completed. Error :0.0262636615834\n",
      "Epoch :9 completed. Error :0.0250504636678\n",
      "Epoch :10 completed. Error :0.0221681982216\n",
      "-------------TRAINING COMPLETED-------------\n",
      "Accuracy of trained model :99.1%. Cost :0.02518725954\n"
     ]
    }
   ],
   "source": [
    "train(epoch=10)\n",
    "acc, c = get_accuracy('test')\n",
    "print 'Accuracy of trained model :{0}%. Cost :{1}'.format(acc, c)"
   ]
  },
  {
   "cell_type": "markdown",
   "metadata": {},
   "source": [
    "## Visualizing the weigths and layers\n",
    "\n",
    "Visualizing the weights of the convolutional filter, can help us understand the functioning of each filter."
   ]
  },
  {
   "cell_type": "code",
   "execution_count": 45,
   "metadata": {
    "collapsed": true
   },
   "outputs": [],
   "source": [
    "### Function to plot the weights of convolutional layer"
   ]
  },
  {
   "cell_type": "code",
   "execution_count": 37,
   "metadata": {
    "collapsed": true
   },
   "outputs": [],
   "source": [
    "import math\n",
    "def plot_conv_weights(weights, input_channel=0):\n",
    "    \n",
    "    # get the weights\n",
    "    W = session.run(weights)\n",
    "    \n",
    "    #find the minimum and maximum of those weigths\n",
    "    W_min = np.min(W)\n",
    "    W_max = np.max(W)\n",
    "    \n",
    "    #get the number of filters used in that layer\n",
    "    num_filters = W.shape[3]\n",
    "\n",
    "    #plot number of grids equalling to display all the filters\n",
    "    num_grids = int(math.ceil(math.sqrt(num_filters)))\n",
    "    fig, axes = plt.subplots(num_grids, num_grids)\n",
    "\n",
    "    for i, ax in enumerate(axes.flat):\n",
    "        #for each filter plot the image.\n",
    "        if i<num_filters:\n",
    "            img = W[:, :, input_channel, i]\n",
    "            ax.imshow(img, vmin=W_min, vmax=W_max,\n",
    "                      interpolation='nearest', cmap='seismic')\n",
    "        #remove the ticks from the image\n",
    "        ax.set_xticks([])\n",
    "        ax.set_yticks([])\n",
    "    #display the image\n",
    "    plt.show()"
   ]
  },
  {
   "cell_type": "markdown",
   "metadata": {},
   "source": [
    "### Function to plot the output of a convolution layer"
   ]
  },
  {
   "cell_type": "code",
   "execution_count": 38,
   "metadata": {
    "collapsed": true
   },
   "outputs": [],
   "source": [
    "def plot_conv_layer(layer, image):\n",
    "    # we need to pass the image as input to get the layer output\n",
    "    feed_dict = {x: [image]}\n",
    "    \n",
    "    # run the session and get the layer values\n",
    "    layer = session.run(layer, feed_dict=feed_dict)\n",
    "    \n",
    "    #number of filters used in that layer\n",
    "    num_filters = layer.shape[3]\n",
    "    \n",
    "    #plot number of grids equalling to display all the filters\n",
    "    num_grids = int(math.ceil(math.sqrt(num_filters)))\n",
    "    fig, axes = plt.subplots(num_grids, num_grids)\n",
    "    for i, ax in enumerate(axes.flat):\n",
    "        #for each filter plot the image.\n",
    "        if i<num_filters:\n",
    "            img = layer[0, :, :, i]\n",
    "            ax.imshow(img, interpolation='nearest', cmap='binary')\n",
    "        #remove the ticks from the image\n",
    "        ax.set_xticks([])\n",
    "        ax.set_yticks([])\n",
    "    #display the image\n",
    "    plt.show()"
   ]
  },
  {
   "cell_type": "code",
   "execution_count": 39,
   "metadata": {
    "collapsed": false
   },
   "outputs": [
    {
     "data": {
      "image/png": "[encoded data removed]",
      "text/plain": [
       "<matplotlib.figure.Figure at 0x7f184473ccd0>"
      ]
     },
     "metadata": {},
     "output_type": "display_data"
    }
   ],
   "source": [
    "#sample image for which we want to infer how the convolution layer behaves\n",
    "image = data.test.images[0]\n",
    "plt.imshow(image.reshape(image_size,image_size), interpolation='nearest', cmap='binary')\n",
    "plt.show()"
   ]
  },
  {
   "cell_type": "markdown",
   "metadata": {},
   "source": [
    "Let's visualize the output of layer0 after the pooling operation and the weights of layer0."
   ]
  },
  {
   "cell_type": "code",
   "execution_count": 40,
   "metadata": {
    "collapsed": false
   },
   "outputs": [
    {
     "data": {
      "image/png": "[encoded data removed]",
      "text/plain": [
       "<matplotlib.figure.Figure at 0x7f18481f2e90>"
      ]
     },
     "metadata": {},
     "output_type": "display_data"
    }
   ],
   "source": [
    "plot_conv_layer(layer0_pool.output, image=image)"
   ]
  },
  {
   "cell_type": "code",
   "execution_count": 41,
   "metadata": {
    "collapsed": false
   },
   "outputs": [
    {
     "data": {
      "image/png": "[encoded data removed]",
      "text/plain": [
       "<matplotlib.figure.Figure at 0x7f183e4bb210>"
      ]
     },
     "metadata": {},
     "output_type": "display_data"
    }
   ],
   "source": [
    "plot_conv_weights(layer0_conv.W, input_channel=0)"
   ]
  },
  {
   "cell_type": "markdown",
   "metadata": {},
   "source": [
    "Let's visualize the output of layer1 after the pooling operation and the weights of layer1."
   ]
  },
  {
   "cell_type": "code",
   "execution_count": 42,
   "metadata": {
    "collapsed": false
   },
   "outputs": [
    {
     "data": {
      "image/png": "[encoded data removed]",
      "text/plain": [
       "<matplotlib.figure.Figure at 0x7f18482fd550>"
      ]
     },
     "metadata": {},
     "output_type": "display_data"
    }
   ],
   "source": [
    "plot_conv_layer(layer1_pool.output, image=image)"
   ]
  },
  {
   "cell_type": "code",
   "execution_count": 43,
   "metadata": {
    "collapsed": false
   },
   "outputs": [
    {
     "data": {
      "image/png": "[encoded data removed]",
      "text/plain": [
       "<matplotlib.figure.Figure at 0x7f1830567410>"
      ]
     },
     "metadata": {},
     "output_type": "display_data"
    }
   ],
   "source": [
    "plot_conv_weights(layer1_conv.W, input_channel=0)"
   ]
  },
  {
   "cell_type": "markdown",
   "metadata": {},
   "source": [
    "layer0 has only one input channel, but layer1 has 16 input channels, so we can make 15 other such plots for weights and layer visualizations for layer1."
   ]
  },
  {
   "cell_type": "markdown",
   "metadata": {},
   "source": [
    "## Close the tensorlfow session"
   ]
  },
  {
   "cell_type": "code",
   "execution_count": 44,
   "metadata": {
    "collapsed": true
   },
   "outputs": [],
   "source": [
    "session.close()"
   ]
  }
 ],
 "metadata": {
  "anaconda-cloud": {},
  "kernelspec": {
   "display_name": "Python 2",
   "language": "python",
   "name": "python2"
  },
  "language_info": {
   "codemirror_mode": {
    "name": "ipython",
    "version": 2
   },
   "file_extension": ".py",
   "mimetype": "text/x-python",
   "name": "python",
   "nbconvert_exporter": "python",
   "pygments_lexer": "ipython2",
   "version": "2.7.12"
  }
 },
 "nbformat": 4,
 "nbformat_minor": 1
}
